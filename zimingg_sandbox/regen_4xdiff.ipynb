{
 "cells": [
  {
   "cell_type": "code",
   "execution_count": 9,
   "metadata": {},
   "outputs": [],
   "source": [
    "import numpy as np\n",
    "import torch\n",
    "from regen_pipe import ReSDPipeline\n",
    "from PIL import Image\n",
    "\n",
    "DEVICE = 'cuda' if torch.cuda.is_available() else 'cpu'"
   ]
  },
  {
   "cell_type": "code",
   "execution_count": 10,
   "metadata": {},
   "outputs": [],
   "source": [
    "\n",
    "class DiffWMAttacker:\n",
    "    def __init__(self, pipe, noise_step=60, captions={}):\n",
    "        self.pipe = pipe\n",
    "        self.noise_step = noise_step\n",
    "        self.captions = captions\n",
    "        print(\n",
    "            f\"Diffuse attack initialized with noise step {self.noise_step} and use prompt {len(self.captions)}\"\n",
    "        )\n",
    "\n",
    "    def attack(self, image, return_latents=False, return_dist=False):\n",
    "        with torch.no_grad():\n",
    "            generator = torch.Generator(DEVICE).manual_seed(1024)\n",
    "            latents_buf = []\n",
    "            prompts_buf = []\n",
    "            outs_buf = []\n",
    "            timestep = torch.tensor(\n",
    "                [self.noise_step], dtype=torch.long, device=DEVICE\n",
    "            )\n",
    "            ret_latents = []\n",
    "\n",
    "            def batched_attack(latents_buf, prompts_buf, outs_buf):\n",
    "                latents = torch.cat(latents_buf, dim=0)\n",
    "                images = self.pipe(\n",
    "                    prompts_buf,\n",
    "                    head_start_latents=latents,\n",
    "                    head_start_step=50 - max(self.noise_step // 20, 1),\n",
    "                    guidance_scale=7.5,\n",
    "                    generator=generator,\n",
    "                )\n",
    "                images = images[0]\n",
    "                for img, out in zip(images, outs_buf):\n",
    "                    return img\n",
    "\n",
    "            img = np.asarray(image) / 255\n",
    "            img = (img - 0.5) * 2\n",
    "            img = torch.tensor(img).permute(2, 0, 1).unsqueeze(0)\n",
    "            latents = self.pipe.vae.encode(\n",
    "                img.to(device=DEVICE, dtype=torch.float16) #remove when running on cuda?\n",
    "            ).latent_dist\n",
    "            latents = latents.sample(generator) * self.pipe.vae.config.scaling_factor\n",
    "            noise = torch.randn(\n",
    "                [1, 4, img.shape[-2] // 8, img.shape[-1] // 8], device=DEVICE\n",
    "            )\n",
    "\n",
    "            latents = self.pipe.scheduler.add_noise(latents, noise, timestep).type(\n",
    "                torch.half\n",
    "            )\n",
    "            latents_buf.append(latents)\n",
    "            outs_buf.append(\"\")\n",
    "            prompts_buf.append(\"\")\n",
    "\n",
    "            img = batched_attack(latents_buf, prompts_buf, outs_buf)\n",
    "            return img\n",
    "\n",
    "\n",
    "def remove_watermark(attack_method, image, strength, model):\n",
    "    # create attacker\n",
    "    print(f\"Creating attacker {attack_method}...\")\n",
    "    if attack_method == \"regen_diffusion\":\n",
    "        pipe = ReSDPipeline.from_pretrained(\n",
    "            model, torch_dtype=torch.float16, revision=\"fp16\"\n",
    "        )\n",
    "        # pipe.set_progress_bar_config(disable=True)\n",
    "        pipe.to(DEVICE)\n",
    "        attacker = DiffWMAttacker(pipe, noise_step=strength, captions={})\n",
    "\n",
    "    else:\n",
    "        raise Exception(f\"Unknown attacking method: {attack_method}!\")\n",
    "\n",
    "    img = attacker.attack(image)\n",
    "    return img\n",
    "\n",
    "def rinse_4xDiff(image, strength, model=\"CompVis/stable-diffusion-v1-4\"):\n",
    "    first_attack = True\n",
    "    for attack in [\n",
    "        \"regen_diffusion\",\n",
    "        \"regen_diffusion\",\n",
    "        \"regen_diffusion\",\n",
    "        \"regen_diffusion\",\n",
    "    ]:\n",
    "        if first_attack:\n",
    "            image = remove_watermark(attack, image, strength, model)\n",
    "            first_attack = False\n",
    "        else:\n",
    "            image = remove_watermark(attack, image, strength, model)\n",
    "    return image\n"
   ]
  },
  {
   "cell_type": "code",
   "execution_count": null,
   "metadata": {},
   "outputs": [
    {
     "name": "stderr",
     "output_type": "stream",
     "text": [
      "text_encoder/model.safetensors not found\n"
     ]
    },
    {
     "name": "stdout",
     "output_type": "stream",
     "text": [
      "Creating attacker regen_diffusion...\n"
     ]
    },
    {
     "name": "stderr",
     "output_type": "stream",
     "text": [
      "Loading pipeline components...:  57%|█████▋    | 4/7 [00:00<00:00, 16.00it/s]An error occurred while trying to fetch /Users/tomg/.cache/huggingface/hub/models--CompVis--stable-diffusion-v1-4/snapshots/2880f2ca379f41b0226444936bb7a6766a227587/vae: Error no file named diffusion_pytorch_model.safetensors found in directory /Users/tomg/.cache/huggingface/hub/models--CompVis--stable-diffusion-v1-4/snapshots/2880f2ca379f41b0226444936bb7a6766a227587/vae.\n",
      "Defaulting to unsafe serialization. Pass `allow_pickle=False` to raise an error instead.\n",
      "An error occurred while trying to fetch /Users/tomg/.cache/huggingface/hub/models--CompVis--stable-diffusion-v1-4/snapshots/2880f2ca379f41b0226444936bb7a6766a227587/unet: Error no file named diffusion_pytorch_model.safetensors found in directory /Users/tomg/.cache/huggingface/hub/models--CompVis--stable-diffusion-v1-4/snapshots/2880f2ca379f41b0226444936bb7a6766a227587/unet.\n",
      "Defaulting to unsafe serialization. Pass `allow_pickle=False` to raise an error instead.\n",
      "Loading pipeline components...: 100%|██████████| 7/7 [00:00<00:00, 10.35it/s]\n",
      "Pipelines loaded with `dtype=torch.float16` cannot run with `cpu` device. It is not recommended to move them to `cpu` as running them will fail. Please make sure to use an accelerator to run the pipeline in inference, due to the lack of support for`float16` operations on this device in PyTorch. Please, remove the `torch_dtype=torch.float16` argument, or use another device for inference.\n",
      "Pipelines loaded with `dtype=torch.float16` cannot run with `cpu` device. It is not recommended to move them to `cpu` as running them will fail. Please make sure to use an accelerator to run the pipeline in inference, due to the lack of support for`float16` operations on this device in PyTorch. Please, remove the `torch_dtype=torch.float16` argument, or use another device for inference.\n",
      "Pipelines loaded with `dtype=torch.float16` cannot run with `cpu` device. It is not recommended to move them to `cpu` as running them will fail. Please make sure to use an accelerator to run the pipeline in inference, due to the lack of support for`float16` operations on this device in PyTorch. Please, remove the `torch_dtype=torch.float16` argument, or use another device for inference.\n",
      "Pipelines loaded with `dtype=torch.float16` cannot run with `cpu` device. It is not recommended to move them to `cpu` as running them will fail. Please make sure to use an accelerator to run the pipeline in inference, due to the lack of support for`float16` operations on this device in PyTorch. Please, remove the `torch_dtype=torch.float16` argument, or use another device for inference.\n"
     ]
    },
    {
     "name": "stdout",
     "output_type": "stream",
     "text": [
      "Diffuse attack initialized with noise step 60 and use prompt 0\n"
     ]
    }
   ],
   "source": [
    "# Run attack on an image, for example\n",
    "image = Image.open(\"./watermarked.png\")\n",
    "# image.show()\n",
    "rinse_4xDiff(image, strength=60)"
   ]
  }
 ],
 "metadata": {
  "kernelspec": {
   "display_name": "venv",
   "language": "python",
   "name": "python3"
  },
  "language_info": {
   "codemirror_mode": {
    "name": "ipython",
    "version": 3
   },
   "file_extension": ".py",
   "mimetype": "text/x-python",
   "name": "python",
   "nbconvert_exporter": "python",
   "pygments_lexer": "ipython3",
   "version": "3.12.3"
  }
 },
 "nbformat": 4,
 "nbformat_minor": 2
}
